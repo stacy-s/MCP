{
 "cells": [
  {
   "cell_type": "code",
   "execution_count": 1,
   "metadata": {},
   "outputs": [],
   "source": [
    "import graph\n",
    "import findMCP\n",
    "import data\n",
    "import time\n",
    "import pandas as pd\n",
    "from os import walk"
   ]
  },
  {
   "cell_type": "code",
   "execution_count": null,
   "metadata": {},
   "outputs": [],
   "source": [
    "def get_all_files_in_path(path):\n",
    "    files= []\n",
    "    for (dirpath, dirnames, filenames) in walk(path):\n",
    "        files.extend(filenames)\n",
    "    return files"
   ]
  },
  {
   "cell_type": "code",
   "execution_count": null,
   "metadata": {},
   "outputs": [],
   "source": [
    "result = {\"name\": [], \"num_vertices\": [], \"time\": [],\n",
    "              \"scale\":[], \"max_clique\": [], \"size_max_clique\": [], \"is_right\":[], \"wrong_vertices\":[]} "
   ]
  },
  {
   "cell_type": "code",
   "execution_count": null,
   "metadata": {},
   "outputs": [],
   "source": [
    "def save_result_for_1_file(filename, scale):\n",
    "    g = data.DataDIMACS.load(filename)\n",
    "    for key in result.keys():\n",
    "        result[key].append(None)\n",
    "    c = findMCP.TrustCLQ(g=g, scale=scale)\n",
    "    start_time = time.time()\n",
    "    res = c.find_max_clique()\n",
    "    finish_time = time.time()\n",
    "    ans = res.is_right_max_clique()\n",
    "    is_right, not_neighbor = ans[0], ans[1]\n",
    "    result[\"name\"][-1] = filename\n",
    "    result[\"num_vertices\"][-1] = len(g.vertices)\n",
    "    result[\"scale\"][-1] = scale\n",
    "    result[\"time\"][-1] = finish_time - start_time\n",
    "    result[\"is_right\"][-1] = is_right\n",
    "    result[\"max_clique\"][-1] = res.max_clique\n",
    "    result[\"size_max_clique\"][-1] = len(res.max_clique)\n",
    "    result[\"wrong_vertices\"][-1] = not_neighbor\n",
    "    print(filename, finish_time - start_time)\n"
   ]
  },
  {
   "cell_type": "code",
   "execution_count": null,
   "metadata": {},
   "outputs": [],
   "source": [
    "def save_result_data_type(path_folder, scale):\n",
    "    files = get_all_files_in_path(path_folder)\n",
    "    files.sort()\n",
    "    print(files)\n",
    "    for filename in files:\n",
    "        try:\n",
    "            save_result_for_1_file(path_folder + '/' + filename, scale)\n",
    "        except TimeoutError:\n",
    "            print(filename)\n",
    "            result[\"name\"][-1] = filename\n",
    "            result[\"scale\"][-1] = scale\n",
    "        except ValueError:\n",
    "            print(filename)"
   ]
  },
  {
   "cell_type": "code",
   "execution_count": null,
   "metadata": {},
   "outputs": [],
   "source": [
    "save_result_data_type(path_folder=\"../DIMACS_all\", scale=1.0)"
   ]
  },
  {
   "cell_type": "code",
   "execution_count": 2,
   "metadata": {},
   "outputs": [],
   "source": []
  },
  {
   "cell_type": "code",
   "execution_count": 4,
   "metadata": {},
   "outputs": [
    {
     "data": {
      "text/plain": [
       "65252"
      ]
     },
     "execution_count": 4,
     "metadata": {},
     "output_type": "execute_result"
    }
   ],
   "source": []
  },
  {
   "cell_type": "code",
   "execution_count": null,
   "metadata": {},
   "outputs": [],
   "source": []
  }
 ],
 "metadata": {
  "kernelspec": {
   "display_name": "Python 3",
   "language": "python",
   "name": "python3"
  },
  "language_info": {
   "codemirror_mode": {
    "name": "ipython",
    "version": 3
   },
   "file_extension": ".py",
   "mimetype": "text/x-python",
   "name": "python",
   "nbconvert_exporter": "python",
   "pygments_lexer": "ipython3",
   "version": "3.6.8"
  }
 },
 "nbformat": 4,
 "nbformat_minor": 2
}
